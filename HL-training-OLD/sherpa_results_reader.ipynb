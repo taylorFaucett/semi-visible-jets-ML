{
 "cells": [
  {
   "cell_type": "code",
   "execution_count": 1,
   "metadata": {},
   "outputs": [],
   "source": [
    "import numpy as np\n",
    "import pathlib\n",
    "path = pathlib.Path.cwd()"
   ]
  },
  {
   "cell_type": "code",
   "execution_count": 2,
   "metadata": {},
   "outputs": [
    {
     "name": "stdout",
     "output_type": "stream",
     "text": [
      "{'Trial-ID': 28, 'Iteration': 22, 'activation': 'tanh', 'dropout': 0.018861621714596818, 'layers': 5, 'learning_rate': 0.0009416202872726101, 'num_units': 53, 'Objective': 0.8224999904632568, 'loss': 0.4180751144886017}\n",
      "{'Trial-ID': 32, 'Iteration': 19, 'activation': 'relu', 'dropout': 0.00016687867883450648, 'layers': 5, 'learning_rate': 0.002297465841168632, 'num_units': 57, 'Objective': 0.753000020980835, 'loss': 0.5093173384666443}\n",
      "{'Trial-ID': 36, 'Iteration': 23, 'activation': 'tanh', 'dropout': 0.0, 'layers': 2, 'learning_rate': 0.01, 'num_units': 81, 'Objective': 0.8525000214576721, 'loss': 0.3520079255104065}\n"
     ]
    }
   ],
   "source": [
    "rinvs = ['0p0', '0p3', '1p0']\n",
    "for rinv in rinvs:\n",
    "    sherpa_results = np.load(f\"sherpa_results/{rinv}.npy\", allow_pickle=\"TRUE\").item()\n",
    "    print(sherpa_results)\n"
   ]
  },
  {
   "cell_type": "code",
   "execution_count": null,
   "metadata": {},
   "outputs": [],
   "source": []
  }
 ],
 "metadata": {
  "kernelspec": {
   "display_name": "Python 3",
   "language": "python",
   "name": "python3"
  },
  "language_info": {
   "codemirror_mode": {
    "name": "ipython",
    "version": 3
   },
   "file_extension": ".py",
   "mimetype": "text/x-python",
   "name": "python",
   "nbconvert_exporter": "python",
   "pygments_lexer": "ipython3",
   "version": "3.8.5"
  }
 },
 "nbformat": 4,
 "nbformat_minor": 4
}
