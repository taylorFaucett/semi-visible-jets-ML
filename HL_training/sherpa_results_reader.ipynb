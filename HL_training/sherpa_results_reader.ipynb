{
 "cells": [
  {
   "cell_type": "code",
   "execution_count": 1,
   "metadata": {},
   "outputs": [],
   "source": [
    "import numpy as np\n",
    "import pathlib\n",
    "import pprint\n",
    "path = pathlib.Path.cwd()"
   ]
  },
  {
   "cell_type": "code",
   "execution_count": 2,
   "metadata": {},
   "outputs": [
    {
     "name": "stdout",
     "output_type": "stream",
     "text": [
      "{'Iteration': 14,\n",
      " 'Objective': 0.9170394539833069,\n",
      " 'Trial-ID': 65,\n",
      " 'accuracy': 0.8414999842643738,\n",
      " 'auc': 0.9170394539833069,\n",
      " 'batch_size': 64.0,\n",
      " 'dense_units_1': 315.0,\n",
      " 'dense_units_2': 261.0,\n",
      " 'dense_units_3': 185.0,\n",
      " 'dropout_1': 0.005758505721870694,\n",
      " 'dropout_2': 0.0,\n",
      " 'learning_rate': 0.0007454589168884871,\n",
      " 'loss': 0.37189146876335144}\n",
      "{'Iteration': 14,\n",
      " 'Objective': 0.8540984392166138,\n",
      " 'Trial-ID': 7,\n",
      " 'accuracy': 0.7714714407920837,\n",
      " 'auc': 0.8540984392166138,\n",
      " 'batch_size': 128.0,\n",
      " 'dense_units_1': 162.0,\n",
      " 'dense_units_2': 204.0,\n",
      " 'dense_units_3': 384.0,\n",
      " 'dropout_1': 0.003476376888615962,\n",
      " 'dropout_2': 0.11028830020059127,\n",
      " 'learning_rate': 0.0009978400376982176,\n",
      " 'loss': 0.47875234484672546}\n",
      "{'Iteration': 14,\n",
      " 'Objective': 0.9548537731170654,\n",
      " 'Trial-ID': 68,\n",
      " 'accuracy': 0.8833714127540588,\n",
      " 'auc': 0.9548537731170654,\n",
      " 'batch_size': 32.0,\n",
      " 'dense_units_1': 252.0,\n",
      " 'dense_units_2': 361.0,\n",
      " 'dense_units_3': 381.0,\n",
      " 'dropout_1': 0.049500069994547466,\n",
      " 'dropout_2': 0.2127097844072236,\n",
      " 'learning_rate': 0.001591700899377977,\n",
      " 'loss': 0.2733137607574463}\n"
     ]
    }
   ],
   "source": [
    "rinvs = ['0p0', '0p3', '1p0']\n",
    "for rinv in rinvs:\n",
    "    sherpa_file = path / \"sherpa_results\" / f\"{rinv}.npy\"\n",
    "    if sherpa_file.exists():\n",
    "        sr = np.load(sherpa_file, allow_pickle=\"TRUE\").item()\n",
    "        pprint.pprint(sr)\n",
    "        # print(rinv.replace('p','.'), sr['Trial-ID'], sr['auc'])"
   ]
  },
  {
   "cell_type": "code",
   "execution_count": null,
   "metadata": {},
   "outputs": [],
   "source": []
  }
 ],
 "metadata": {
  "kernelspec": {
   "display_name": "Python 3",
   "language": "python",
   "name": "python3"
  },
  "language_info": {
   "codemirror_mode": {
    "name": "ipython",
    "version": 3
   },
   "file_extension": ".py",
   "mimetype": "text/x-python",
   "name": "python",
   "nbconvert_exporter": "python",
   "pygments_lexer": "ipython3",
   "version": "3.8.5"
  }
 },
 "nbformat": 4,
 "nbformat_minor": 4
}
