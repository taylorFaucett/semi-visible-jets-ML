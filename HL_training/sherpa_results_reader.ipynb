{
 "cells": [
  {
   "cell_type": "code",
   "execution_count": 5,
   "metadata": {},
   "outputs": [],
   "source": [
    "import numpy as np\n",
    "import pathlib\n",
    "import pandas as pd\n",
    "import pprint\n",
    "path = pathlib.Path.cwd()"
   ]
  },
  {
   "cell_type": "code",
   "execution_count": 34,
   "metadata": {},
   "outputs": [
    {
     "name": "stdout",
     "output_type": "stream",
     "text": [
      "{'Iteration': 9,\n",
      " 'Objective': 0.8963741064071655,\n",
      " 'Status': 'COMPLETED',\n",
      " 'accuracy': 0.8147491216659546,\n",
      " 'auc': 0.8963741064071655,\n",
      " 'batch_size': 256.0,\n",
      " 'dense_units_1': 290.0,\n",
      " 'dense_units_2': 249.0,\n",
      " 'dense_units_3': 232.0,\n",
      " 'dropout_0': 0.10277462112155512,\n",
      " 'dropout_1': 0.09780498623152313,\n",
      " 'dropout_2': 0.2698618607609833,\n",
      " 'learning_rate': 0.0032430047688380725,\n",
      " 'loss': 0.4087252616882324}\n",
      "{'Iteration': 9,\n",
      " 'Objective': 0.8181479573249817,\n",
      " 'Status': 'COMPLETED',\n",
      " 'accuracy': 0.7354835271835327,\n",
      " 'auc': 0.8181479573249817,\n",
      " 'batch_size': 128,\n",
      " 'dense_units_1': 42,\n",
      " 'dense_units_2': 290,\n",
      " 'dense_units_3': 34,\n",
      " 'dropout_0': 0.14338337017592614,\n",
      " 'dropout_1': 0.011050909224880223,\n",
      " 'dropout_2': 0.03244312751933154,\n",
      " 'learning_rate': 0.0010722326210590696,\n",
      " 'loss': 0.5251578688621521}\n"
     ]
    }
   ],
   "source": [
    "rinvs = ['0p0', '0p3', '1p0']\n",
    "for rinv in rinvs:\n",
    "    sherpa_file = path / \"sherpa_results\" / rinv / f\"results.csv\"\n",
    "    if sherpa_file.exists():\n",
    "        sherpa_results = pd.read_csv(sherpa_file, index_col=\"Trial-ID\").groupby(\"Status\")\n",
    "        sorted_results = sherpa_results.get_group(\"COMPLETED\").sort_values(by=\"Objective\", ascending=False)\n",
    "        best_result = sorted_results.iloc[0].to_dict()\n",
    "        pprint.pprint(best_result)"
   ]
  },
  {
   "cell_type": "code",
   "execution_count": null,
   "metadata": {},
   "outputs": [],
   "source": []
  }
 ],
 "metadata": {
  "kernelspec": {
   "display_name": "Python 3",
   "language": "python",
   "name": "python3"
  },
  "language_info": {
   "codemirror_mode": {
    "name": "ipython",
    "version": 3
   },
   "file_extension": ".py",
   "mimetype": "text/x-python",
   "name": "python",
   "nbconvert_exporter": "python",
   "pygments_lexer": "ipython3",
   "version": "3.8.5"
  }
 },
 "nbformat": 4,
 "nbformat_minor": 4
}
