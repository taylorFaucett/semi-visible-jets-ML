{
 "cells": [
  {
   "cell_type": "code",
   "execution_count": 54,
   "metadata": {},
   "outputs": [],
   "source": [
    "import numpy as np\n",
    "import pathlib\n",
    "import pprint\n",
    "path = pathlib.Path.cwd()"
   ]
  },
  {
   "cell_type": "code",
   "execution_count": 72,
   "metadata": {},
   "outputs": [
    {
     "name": "stdout",
     "output_type": "stream",
     "text": [
      "{'Iteration': 12,\n",
      " 'Objective': 0.85628342628479,\n",
      " 'Trial-ID': 6,\n",
      " 'accuracy': 0.780742883682251,\n",
      " 'auc': 0.85628342628479,\n",
      " 'batch_size': 32,\n",
      " 'dense_units_1': 191,\n",
      " 'dense_units_2': 32,\n",
      " 'dense_units_3': 280,\n",
      " 'dropout_1': 0.3327493134969192,\n",
      " 'dropout_2': 0.4797998150588012,\n",
      " 'filter_1': 53,\n",
      " 'filter_2': 180,\n",
      " 'filter_3': 107,\n",
      " 'kernel_1': 3,\n",
      " 'kernel_2': 3,\n",
      " 'kernel_3': 2,\n",
      " 'learning_rate': 0.0006985572006984466,\n",
      " 'loss': 0.4979640543460846,\n",
      " 'pool_1': 2,\n",
      " 'pool_2': 2}\n",
      "{'Iteration': 11,\n",
      " 'Objective': 0.7711477279663086,\n",
      " 'Trial-ID': 1,\n",
      " 'accuracy': 0.7003428339958191,\n",
      " 'auc': 0.7711477279663086,\n",
      " 'batch_size': 64,\n",
      " 'dense_units_1': 261,\n",
      " 'dense_units_2': 63,\n",
      " 'dense_units_3': 206,\n",
      " 'dropout_1': 0.07810382480424566,\n",
      " 'dropout_2': 0.28569219257319484,\n",
      " 'filter_1': 53,\n",
      " 'filter_2': 48,\n",
      " 'filter_3': 58,\n",
      " 'kernel_1': 3,\n",
      " 'kernel_2': 3,\n",
      " 'kernel_3': 2,\n",
      " 'learning_rate': 0.00366359032806574,\n",
      " 'loss': 0.7047945857048035,\n",
      " 'pool_1': 2,\n",
      " 'pool_2': 2}\n"
     ]
    }
   ],
   "source": [
    "rinvs = ['0p0', '0p3', '1p0']\n",
    "for rinv in rinvs:\n",
    "    sherpa_file = path / \"sherpa_results\" / f\"{rinv}.npy\"\n",
    "    if sherpa_file.exists():\n",
    "        sr = np.load(sherpa_file, allow_pickle=\"TRUE\").item()\n",
    "        pprint.pprint(sr)\n",
    "        # print(rinv.replace('p','.'), sr['Trial-ID'], sr['auc'])"
   ]
  },
  {
   "cell_type": "code",
   "execution_count": null,
   "metadata": {},
   "outputs": [],
   "source": []
  }
 ],
 "metadata": {
  "kernelspec": {
   "display_name": "Python 3",
   "language": "python",
   "name": "python3"
  },
  "language_info": {
   "codemirror_mode": {
    "name": "ipython",
    "version": 3
   },
   "file_extension": ".py",
   "mimetype": "text/x-python",
   "name": "python",
   "nbconvert_exporter": "python",
   "pygments_lexer": "ipython3",
   "version": "3.8.5"
  }
 },
 "nbformat": 4,
 "nbformat_minor": 4
}
