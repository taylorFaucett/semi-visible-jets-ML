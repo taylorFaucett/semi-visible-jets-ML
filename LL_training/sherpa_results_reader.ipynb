{
 "cells": [
  {
   "cell_type": "code",
   "execution_count": 2,
   "metadata": {},
   "outputs": [],
   "source": [
    "import numpy as np\n",
    "import pathlib\n",
    "import pprint\n",
    "path = pathlib.Path.cwd()"
   ]
  },
  {
   "cell_type": "code",
   "execution_count": 4,
   "metadata": {},
   "outputs": [
    {
     "name": "stdout",
     "output_type": "stream",
     "text": [
      "{'Iteration': 14,\n",
      " 'Objective': 0.937174916267395,\n",
      " 'Trial-ID': 5,\n",
      " 'accuracy': 0.8659650087356567,\n",
      " 'auc': 0.937174916267395,\n",
      " 'batch_size': 64,\n",
      " 'dense_units_1': 395,\n",
      " 'dense_units_2': 50,\n",
      " 'dense_units_3': 66,\n",
      " 'dropout_1': 0.39403245898529315,\n",
      " 'dropout_2': 0.19654814598912285,\n",
      " 'filter_1': 191,\n",
      " 'filter_2': 105,\n",
      " 'filter_3': 52,\n",
      " 'kernel_1': 3,\n",
      " 'kernel_2': 3,\n",
      " 'kernel_3': 2,\n",
      " 'learning_rate': 0.0006564427379533383,\n",
      " 'loss': 0.38109543919563293,\n",
      " 'pool_1': 2,\n",
      " 'pool_2': 2}\n"
     ]
    }
   ],
   "source": [
    "rinvs = ['0p0', '0p3', '1p0']\n",
    "for rinv in rinvs:\n",
    "    sherpa_file = path / \"sherpa_results\" / f\"{rinv}.npy\"\n",
    "    if sherpa_file.exists():\n",
    "        sr = np.load(sherpa_file, allow_pickle=\"TRUE\").item()\n",
    "        pprint.pprint(sr)\n",
    "        # print(rinv.replace('p','.'), sr['Trial-ID'], sr['auc'])"
   ]
  },
  {
   "cell_type": "code",
   "execution_count": null,
   "metadata": {},
   "outputs": [],
   "source": []
  }
 ],
 "metadata": {
  "kernelspec": {
   "display_name": "Python 3",
   "language": "python",
   "name": "python3"
  },
  "language_info": {
   "codemirror_mode": {
    "name": "ipython",
    "version": 3
   },
   "file_extension": ".py",
   "mimetype": "text/x-python",
   "name": "python",
   "nbconvert_exporter": "python",
   "pygments_lexer": "ipython3",
   "version": "3.8.5"
  }
 },
 "nbformat": 4,
 "nbformat_minor": 4
}
