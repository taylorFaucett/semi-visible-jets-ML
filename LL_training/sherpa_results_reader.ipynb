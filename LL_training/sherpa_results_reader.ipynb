{
 "cells": [
  {
   "cell_type": "code",
   "execution_count": 2,
   "metadata": {},
   "outputs": [],
   "source": [
    "import numpy as np\n",
    "import pathlib\n",
    "import pprint\n",
    "path = pathlib.Path.cwd()"
   ]
  },
  {
   "cell_type": "code",
   "execution_count": 11,
   "metadata": {},
   "outputs": [
    {
     "name": "stdout",
     "output_type": "stream",
     "text": [
      "{'Iteration': 13,\n",
      " 'Objective': 0.8968753814697266,\n",
      " 'Trial-ID': 2,\n",
      " 'accuracy': 0.8136687278747559,\n",
      " 'auc': 0.8968753814697266,\n",
      " 'batch_size': 256.0,\n",
      " 'dense_units_1': 130.0,\n",
      " 'dense_units_2': 120.0,\n",
      " 'dense_units_3': 96.0,\n",
      " 'dropout_1': 0.3573042090441351,\n",
      " 'dropout_2': 0.20724009233804563,\n",
      " 'filter_1': 110.0,\n",
      " 'filter_2': 119.0,\n",
      " 'filter_3': 66.0,\n",
      " 'learning_rate': 0.0014165299527413504,\n",
      " 'loss': 0.45282474160194397}\n",
      "{'Iteration': 13,\n",
      " 'Objective': 0.8390368819236755,\n",
      " 'Trial-ID': 61,\n",
      " 'accuracy': 0.7570562362670898,\n",
      " 'auc': 0.8390368819236755,\n",
      " 'batch_size': 512.0,\n",
      " 'dense_units_1': 117.0,\n",
      " 'dense_units_2': 97.0,\n",
      " 'dense_units_3': 118.0,\n",
      " 'dropout_1': 0.00977325965380027,\n",
      " 'dropout_2': 0.20128526884912,\n",
      " 'filter_1': 113.0,\n",
      " 'filter_2': 119.0,\n",
      " 'filter_3': 91.0,\n",
      " 'learning_rate': 0.00016134599909279466,\n",
      " 'loss': 0.5303263664245605}\n",
      "{'Iteration': 14,\n",
      " 'Objective': 0.9590415358543396,\n",
      " 'Trial-ID': 78,\n",
      " 'accuracy': 0.8852963447570801,\n",
      " 'auc': 0.9590415358543396,\n",
      " 'batch_size': 256.0,\n",
      " 'dense_units_1': 170.0,\n",
      " 'dense_units_2': 200.0,\n",
      " 'dense_units_3': 73.0,\n",
      " 'dropout_1': 0.25649293795227196,\n",
      " 'dropout_2': 0.17964629021693995,\n",
      " 'filter_1': 119.0,\n",
      " 'filter_2': 91.0,\n",
      " 'filter_3': 51.0,\n",
      " 'learning_rate': 0.0008359417496580868,\n",
      " 'loss': 0.2811194956302643}\n"
     ]
    }
   ],
   "source": [
    "rinvs = ['0p0', '0p3', '1p0']\n",
    "for rinv in rinvs:\n",
    "    sherpa_file = path / \"sherpa_results\" / f\"{rinv}.npy\"\n",
    "    if sherpa_file.exists():\n",
    "        sr = np.load(sherpa_file, allow_pickle=\"TRUE\").item()\n",
    "        pprint.pprint(sr)\n",
    "        # print(rinv.replace('p','.'), sr['Trial-ID'], sr['auc'])"
   ]
  },
  {
   "cell_type": "code",
   "execution_count": 7,
   "metadata": {},
   "outputs": [],
   "source": [
    "rinvs = ['0p0', '0p3', '1p0']\n",
    "for rinv in rinvs:\n",
    "    sherpa_csv = path / \"sherpa_results\" / f\"study_{rinv}.csv\"\n",
    "    if sherpa_csv.exists():\n",
    "        results = pd.read_csv(sherpa_csv)\n",
    "        pprint.pprint(results)"
   ]
  },
  {
   "cell_type": "code",
   "execution_count": null,
   "metadata": {},
   "outputs": [],
   "source": []
  }
 ],
 "metadata": {
  "kernelspec": {
   "display_name": "Python 3",
   "language": "python",
   "name": "python3"
  },
  "language_info": {
   "codemirror_mode": {
    "name": "ipython",
    "version": 3
   },
   "file_extension": ".py",
   "mimetype": "text/x-python",
   "name": "python",
   "nbconvert_exporter": "python",
   "pygments_lexer": "ipython3",
   "version": "3.8.5"
  }
 },
 "nbformat": 4,
 "nbformat_minor": 4
}
