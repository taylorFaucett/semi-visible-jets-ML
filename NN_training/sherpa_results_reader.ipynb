{
 "cells": [
  {
   "cell_type": "code",
   "execution_count": null,
   "metadata": {},
   "outputs": [],
   "source": [
    "import numpy as np\n",
    "import pathlib\n",
    "from pprint import pprint\n",
    "from get_best_sherpa_result import get_best_sherpa_result, show_sherpa_results\n",
    "path = pathlib.Path.cwd()\n",
    "\n",
    "run_types = [\"LL\", \"HL\"]\n",
    "rinvs = [\"0p0\"]\n",
    "for run_type in run_types:\n",
    "    for rinv in rinvs: \n",
    "        try:\n",
    "            result = get_best_sherpa_result(run_type, rinv)\n",
    "            print(run_type, rinv)\n",
    "            pprint(result)\n",
    "            print(show_sherpa_results(run_type, rinv))\n",
    "        except:\n",
    "            pass"
   ]
  },
  {
   "cell_type": "code",
   "execution_count": null,
   "metadata": {},
   "outputs": [],
   "source": []
  }
 ],
 "metadata": {
  "kernelspec": {
   "display_name": "Python 3",
   "language": "python",
   "name": "python3"
  },
  "language_info": {
   "codemirror_mode": {
    "name": "ipython",
    "version": 3
   },
   "file_extension": ".py",
   "mimetype": "text/x-python",
   "name": "python",
   "nbconvert_exporter": "python",
   "pygments_lexer": "ipython3",
   "version": "3.8.5"
  }
 },
 "nbformat": 4,
 "nbformat_minor": 4
}
