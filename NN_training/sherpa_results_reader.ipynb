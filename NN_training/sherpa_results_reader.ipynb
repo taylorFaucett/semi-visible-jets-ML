{
 "cells": [
  {
   "cell_type": "code",
   "execution_count": 5,
   "metadata": {},
   "outputs": [],
   "source": [
    "import numpy as np\n",
    "import pathlib\n",
    "import pprint\n",
    "path = pathlib.Path.cwd()"
   ]
  },
  {
   "cell_type": "code",
   "execution_count": 13,
   "metadata": {},
   "outputs": [
    {
     "name": "stdout",
     "output_type": "stream",
     "text": [
      "{'Iteration': 9,\n",
      " 'Objective': 0.8695059418678284,\n",
      " 'Trial-ID': 13,\n",
      " 'accuracy': 0.787506639957428,\n",
      " 'auc': 0.8695059418678284,\n",
      " 'batch_size': 512.0,\n",
      " 'dense_units_1': 136.0,\n",
      " 'dense_units_2': 101.0,\n",
      " 'dense_units_3': 54.0,\n",
      " 'dropout_0': 0.002487511980128476,\n",
      " 'dropout_1': 0.20980567957077673,\n",
      " 'dropout_2': 0.09696229055039907,\n",
      " 'filter_1': 69.0,\n",
      " 'filter_2': 303.0,\n",
      " 'filter_3': 216.0,\n",
      " 'learning_rate': 0.0011417950533097704,\n",
      " 'loss': 0.4986594319343567}\n",
      "{'Iteration': 9,\n",
      " 'Objective': 0.8055737018585205,\n",
      " 'Trial-ID': 39,\n",
      " 'accuracy': 0.7251466512680054,\n",
      " 'auc': 0.8055737018585205,\n",
      " 'batch_size': 512.0,\n",
      " 'dense_units_1': 330.0,\n",
      " 'dense_units_2': 208.0,\n",
      " 'dense_units_3': 294.0,\n",
      " 'dropout_0': 0.033181350208940474,\n",
      " 'dropout_1': 0.011722791167547264,\n",
      " 'dropout_2': 0.19895612831997633,\n",
      " 'filter_1': 361.0,\n",
      " 'filter_2': 271.0,\n",
      " 'filter_3': 248.0,\n",
      " 'learning_rate': 0.0003930583204896917,\n",
      " 'loss': 0.6003246307373047}\n"
     ]
    }
   ],
   "source": [
    "rinvs = ['0p0', '0p3', '1p0']\n",
    "for rinv in rinvs:\n",
    "    sherpa_file = path / \"sherpa_results\" / rinv / \"best_results.npy\"\n",
    "    if sherpa_file.exists():\n",
    "        sr = np.load(sherpa_file, allow_pickle=\"TRUE\").item()\n",
    "        pprint.pprint(sr)\n",
    "        # print(rinv.replace('p','.'), sr['Trial-ID'], sr['auc'])"
   ]
  },
  {
   "cell_type": "code",
   "execution_count": 7,
   "metadata": {},
   "outputs": [],
   "source": [
    "rinvs = ['0p0', '0p3', '1p0']\n",
    "for rinv in rinvs:\n",
    "    sherpa_csv = path / \"sherpa_results\" / f\"study_{rinv}.csv\"\n",
    "    if sherpa_csv.exists():\n",
    "        results = pd.read_csv(sherpa_csv)\n",
    "        pprint.pprint(results)"
   ]
  },
  {
   "cell_type": "code",
   "execution_count": null,
   "metadata": {},
   "outputs": [],
   "source": []
  }
 ],
 "metadata": {
  "kernelspec": {
   "display_name": "Python 3",
   "language": "python",
   "name": "python3"
  },
  "language_info": {
   "codemirror_mode": {
    "name": "ipython",
    "version": 3
   },
   "file_extension": ".py",
   "mimetype": "text/x-python",
   "name": "python",
   "nbconvert_exporter": "python",
   "pygments_lexer": "ipython3",
   "version": "3.8.5"
  }
 },
 "nbformat": 4,
 "nbformat_minor": 4
}
