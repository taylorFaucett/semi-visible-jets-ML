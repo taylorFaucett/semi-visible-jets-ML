{
 "cells": [
  {
   "cell_type": "code",
   "execution_count": 46,
   "metadata": {},
   "outputs": [
    {
     "data": {
      "text/plain": [
       "PosixPath('/home/tfaucett/Dropbox/Projects/semi-visible-jets-ml/analysis')"
      ]
     },
     "execution_count": 46,
     "metadata": {},
     "output_type": "execute_result"
    }
   ],
   "source": [
    "import h5py\n",
    "import matplotlib.pyplot as plt\n",
    "from matplotlib.colors import LogNorm\n",
    "import pathlib\n",
    "import numpy as np\n",
    "path = pathlib.Path.cwd()\n",
    "path"
   ]
  },
  {
   "cell_type": "code",
   "execution_count": 74,
   "metadata": {},
   "outputs": [
    {
     "name": "stdout",
     "output_type": "stream",
     "text": [
      "/home/tfaucett/Dropbox/Projects/semi-visible-jets-ml/data/jet_images/0p0/RUN157.h5\n"
     ]
    },
    {
     "data": {
      "image/png": "[encoded data removed]",
      "text/plain": [
       "<Figure size 216x216 with 1 Axes>"
      ]
     },
     "metadata": {
      "needs_background": "light"
     },
     "output_type": "display_data"
    },
    {
     "name": "stdout",
     "output_type": "stream",
     "text": [
      "/home/tfaucett/Dropbox/Projects/semi-visible-jets-ml/data/jet_images/0p3/RUN157.h5\n"
     ]
    },
    {
     "data": {
      "image/png": "[encoded data removed]",
      "text/plain": [
       "<Figure size 216x216 with 1 Axes>"
      ]
     },
     "metadata": {
      "needs_background": "light"
     },
     "output_type": "display_data"
    },
    {
     "name": "stdout",
     "output_type": "stream",
     "text": [
      "/home/tfaucett/Dropbox/Projects/semi-visible-jets-ml/data/jet_images/1p0/RUN157.h5\n"
     ]
    },
    {
     "data": {
      "image/png": "[encoded data removed]",
      "text/plain": [
       "<Figure size 216x216 with 1 Axes>"
      ]
     },
     "metadata": {
      "needs_background": "light"
     },
     "output_type": "display_data"
    },
    {
     "name": "stdout",
     "output_type": "stream",
     "text": [
      "/home/tfaucett/Dropbox/Projects/semi-visible-jets-ml/data/jet_images/bkg_qcd/run_01_8.h5\n"
     ]
    },
    {
     "data": {
      "image/png": "[encoded data removed]",
      "text/plain": [
       "<Figure size 216x216 with 1 Axes>"
      ]
     },
     "metadata": {
      "needs_background": "light"
     },
     "output_type": "display_data"
    }
   ],
   "source": [
    "def plt_jet_img(jet_img_file):\n",
    "    fig = plt.figure(figsize=(3,3))\n",
    "    jet_img = h5py.File(jet_img_file, \"r\")[\"features\"][:]\n",
    "    jet0 = np.zeros((jet_img.shape[-1],jet_img.shape[-1]))\n",
    "    for ix in range(jet_img.shape[0]):\n",
    "        jeti = jet_img[ix]\n",
    "        # jeti /= np.sum(jeti)\n",
    "        jet0 += jeti\n",
    "    jet0 /= np.sum(jet0)\n",
    "    img = plt.imshow(jet0, norm=LogNorm(), interpolation=\"nearest\", origin=\"lower\")\n",
    "    img.set_cmap('hot')\n",
    "    #plt.colorbar(img)\n",
    "    plt.axis('off')\n",
    "    plt.title(jet_type)\n",
    "    plt.tight_layout()\n",
    "    plt.savefig(path.parent / \"figures\" / \"jet_images\" / f\"{jet_type}.pdf\")\n",
    "    plt.savefig(path.parent / \"figures\" / \"jet_images\" / f\"{jet_type}.png\")\n",
    "    plt.show()\n",
    "    \n",
    "    \n",
    "jet_types = [\"0p0\", \"0p3\", \"1p0\", \"bkg_qcd\"]\n",
    "for jet_type in jet_types:\n",
    "    jet_img_path = path.parent / \"data\" / \"jet_images\" / jet_type\n",
    "    for jet_img_file in pathlib.Path(jet_img_path).rglob(\"*.h5\"):\n",
    "        print(jet_img_file)\n",
    "        plt_jet_img(jet_img_file)\n",
    "        break"
   ]
  },
  {
   "cell_type": "code",
   "execution_count": null,
   "metadata": {},
   "outputs": [],
   "source": []
  }
 ],
 "metadata": {
  "kernelspec": {
   "display_name": "Python 3",
   "language": "python",
   "name": "python3"
  },
  "language_info": {
   "codemirror_mode": {
    "name": "ipython",
    "version": 3
   },
   "file_extension": ".py",
   "mimetype": "text/x-python",
   "name": "python",
   "nbconvert_exporter": "python",
   "pygments_lexer": "ipython3",
   "version": "3.8.5"
  }
 },
 "nbformat": 4,
 "nbformat_minor": 4
}
