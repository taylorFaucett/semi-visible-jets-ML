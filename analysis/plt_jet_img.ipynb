{
 "cells": [
  {
   "cell_type": "code",
   "execution_count": 1,
   "metadata": {},
   "outputs": [
    {
     "data": {
      "text/plain": [
       "PosixPath('/media/green/Dropbox/Projects/semi-visible-jets-ml/analysis')"
      ]
     },
     "execution_count": 1,
     "metadata": {},
     "output_type": "execute_result"
    }
   ],
   "source": [
    "import h5py\n",
    "import matplotlib.pyplot as plt\n",
    "from matplotlib.colors import LogNorm\n",
    "import pathlib\n",
    "import numpy as np\n",
    "path = pathlib.Path.cwd()\n",
    "path"
   ]
  },
  {
   "cell_type": "code",
   "execution_count": 5,
   "metadata": {},
   "outputs": [
    {
     "name": "stdout",
     "output_type": "stream",
     "text": [
      "40413\n"
     ]
    },
    {
     "data": {
      "image/png": "[encoded data removed]",
      "text/plain": [
       "<Figure size 216x216 with 1 Axes>"
      ]
     },
     "metadata": {
      "needs_background": "light"
     },
     "output_type": "display_data"
    },
    {
     "name": "stdout",
     "output_type": "stream",
     "text": [
      "40865\n"
     ]
    },
    {
     "data": {
      "image/png": "[encoded data removed]",
      "text/plain": [
       "<Figure size 216x216 with 1 Axes>"
      ]
     },
     "metadata": {
      "needs_background": "light"
     },
     "output_type": "display_data"
    },
    {
     "name": "stdout",
     "output_type": "stream",
     "text": [
      "40020\n"
     ]
    },
    {
     "data": {
      "image/png": "[encoded data removed]",
      "text/plain": [
       "<Figure size 216x216 with 1 Axes>"
      ]
     },
     "metadata": {
      "needs_background": "light"
     },
     "output_type": "display_data"
    },
    {
     "name": "stdout",
     "output_type": "stream",
     "text": [
      "68697\n"
     ]
    },
    {
     "data": {
      "image/png": "[encoded data removed]",
      "text/plain": [
       "<Figure size 216x216 with 1 Axes>"
      ]
     },
     "metadata": {
      "needs_background": "light"
     },
     "output_type": "display_data"
    }
   ],
   "source": [
    "def plt_jet_img(jet_image):\n",
    "    fig = plt.figure(figsize=(3,3))\n",
    "    jet_image /= np.sum(jet_image)\n",
    "    img = plt.imshow(jet_image, norm=LogNorm(), interpolation=\"nearest\", origin=\"lower\")\n",
    "    img.set_cmap('inferno')\n",
    "    #plt.colorbar(img)\n",
    "    plt.axis('off')\n",
    "    plt.title(jet_type)\n",
    "    plt.tight_layout()\n",
    "    plt.savefig(path.parent / \"figures\" / \"jet_images\" / f\"{jet_type}.pdf\")\n",
    "    plt.savefig(path.parent / \"figures\" / \"jet_images\" / f\"{jet_type}.png\")\n",
    "    plt.show()\n",
    "    \n",
    "    \n",
    "jet_types = [\"0p0\", \"0p3\", \"1p0\", \"bkg_qcd\"]\n",
    "for jet_type in jet_types:\n",
    "    jet_img_path = path.parent / \"data\" / \"jet_images\" / jet_type\n",
    "    jet0 = np.zeros((32,32))\n",
    "    jet_size = 0\n",
    "    for jet_img_file in pathlib.Path(jet_img_path).rglob(\"*.h5\"):\n",
    "        jet_img = h5py.File(jet_img_file, \"r\")[\"features\"][:]\n",
    "        jet_size += jet_img.shape[0]\n",
    "        jet0 += np.sum(jet_img, axis=0)\n",
    "        if jet_size > 40000:\n",
    "            print(jet_size)\n",
    "            plt_jet_img(jet0)\n",
    "            break"
   ]
  },
  {
   "cell_type": "code",
   "execution_count": null,
   "metadata": {},
   "outputs": [],
   "source": [
    "def plt_jet_img(jet_image, sig_bkg):\n",
    "    fig = plt.figure(figsize=(3,3))\n",
    "    jet_image /= np.sum(jet_image)\n",
    "    img = plt.imshow(jet_image, norm=LogNorm(), interpolation=\"nearest\", origin=\"lower\")\n",
    "    img.set_cmap('inferno')\n",
    "    #plt.colorbar(img)\n",
    "    plt.axis('off')\n",
    "    plt.title(sig_bkg, jet_type)\n",
    "    plt.tight_layout()\n",
    "    plt.savefig(path.parent / \"figures\" / \"jet_images\" / f\"{jet_type}.pdf\")\n",
    "    plt.savefig(path.parent / \"figures\" / \"jet_images\" / f\"{jet_type}.png\")\n",
    "    plt.show()\n",
    "    \n",
    "    \n",
    " = [\"0p0\", \"0p3\", \"1p0\", \"bkg_qcd\"]\n",
    "for jet_type in jet_types:\n",
    "    jet_img_file = path.parent / \"data\" / \"jet_images\" / f\"LL-{jet_type}\"\n",
    "    jet0 = np.zeros((32,32))\n",
    "    jet1 = np.zeros((32,32))\n",
    "    jet_size = 0\n",
    "    for jet_img_file in pathlib.Path(jet_img_path).rglob(\"*.h5\"):\n",
    "        jet_img = h5py.File(jet_img_file, \"r\")\n",
    "        print(jet_img.keys())\n",
    "        break\n",
    "        y = h5py.File(jet_img_file, \"r\")[\"targets\"][:10000]\n",
    "        for ix in range(jet_img.shape[0]):\n",
    "            jeti = jet_img[ix]\n",
    "            if y[ix] == 0:\n",
    "                jet0 += jeti\n",
    "            elif y[ix] == 1:\n",
    "                jet1 += jeti\n",
    "\n",
    "        plt_jet_img(jet0, \"bkg\")\n",
    "        plt_jet_img(jet0, \"sig\")\n",
    "\n"
   ]
  }
 ],
 "metadata": {
  "kernelspec": {
   "display_name": "Python 3",
   "language": "python",
   "name": "python3"
  },
  "language_info": {
   "codemirror_mode": {
    "name": "ipython",
    "version": 3
   },
   "file_extension": ".py",
   "mimetype": "text/x-python",
   "name": "python",
   "nbconvert_exporter": "python",
   "pygments_lexer": "ipython3",
   "version": "3.8.5"
  }
 },
 "nbformat": 4,
 "nbformat_minor": 4
}
