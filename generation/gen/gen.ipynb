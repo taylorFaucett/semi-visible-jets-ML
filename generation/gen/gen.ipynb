{
 "cells": [
  {
   "cell_type": "markdown",
   "metadata": {},
   "source": [
    "# Generate SVJ data (MG5 -> Pythia -> Delphes)"
   ]
  },
  {
   "cell_type": "markdown",
   "metadata": {},
   "source": [
    "## Generate LHE from Madgraph"
   ]
  },
  {
   "cell_type": "markdown",
   "metadata": {},
   "source": [
    "### Pre-requisites\n",
    "\n",
    "We can use Madgraph to generate parton-level (LHE) files. Then shower/reco will be performed separately with Pythia and Delphes. Install a copy of Madgraph and instal Pythia/Delphes"
   ]
  },
  {
   "cell_type": "markdown",
   "metadata": {},
   "source": [
    "### Define import directories for process files, madgraph, etc"
   ]
  },
  {
   "cell_type": "code",
   "execution_count": 19,
   "metadata": {},
   "outputs": [
    {
     "data": {
      "text/plain": [
       "0"
      ]
     },
     "execution_count": 19,
     "metadata": {},
     "output_type": "execute_result"
    }
   ],
   "source": [
    "import os\n",
    "# Ideally, you should only need to explicitly define your svj_path and the rest \n",
    "# of the paths should be made for you from that\n",
    "svj_path = \"/home/tfaucett/Projects/svj-production\"\n",
    "gen_path = svj_path+\"/gen\"\n",
    "mg5_path = gen_path+\"/HEPTools/MG5\"\n",
    "pythia_path = gen_path+\"/HEPTools/MG5/HEPTools/pythia8\"\n",
    "log_path = gen_path+\"/logs\"\n",
    "set_pythia = \"export PYTHIA8=\"+pythia_path\n",
    "DelphesPythia8 = mg5_path+\"/Delphes/DelphesPythia8\"\n",
    "\n",
    "# Locations for custom run files and process information\n",
    "proc_path = gen_path+\"/process_files\"\n",
    "cmnd_path = proc_path+\"/cmnd_files\"\n",
    "lhe_path = proc_path+\"/lhe_proc\"\n",
    "\n",
    "# Set Pythia path for use with Delphes\n",
    "os.system(set_pythia)"
   ]
  },
  {
   "cell_type": "markdown",
   "metadata": {},
   "source": [
    "## Generate LHE file. \n",
    "\n",
    "Jupyter/python isn't really the best way to interact with Madgraph. So the code below will execute the terminal commands to run madgraph, but any changes need to be made via the appropriate run cards/process files/etc. If you decide to run this through Jupyter, you can monitor progress via log files in the directory \"log/mg5\"."
   ]
  },
  {
   "cell_type": "markdown",
   "metadata": {},
   "source": [
    "### Custom madgraph settings"
   ]
  },
  {
   "cell_type": "code",
   "execution_count": 20,
   "metadata": {},
   "outputs": [
    {
     "data": {
      "text/plain": [
       "set default_unset_couplings 99\n",
       "set group_subprocesses Auto\n",
       "set ignore_six_quark_processes False\n",
       "set loop_optimized_output True\n",
       "set low_mem_multicore_nlo_generation False\n",
       "set loop_color_flows False\n",
       "set gauge unitary\n",
       "set complex_mass_scheme False\n",
       "set max_npoint_for_channel 0\n",
       "\n",
       "import model DMsimp_s_spin1\n",
       "define p = g u c d s u~ c~ d~ s~\n",
       "define j = g u c d s u~ c~ d~ s~\n",
       "define l+ = e+ mu+\n",
       "define l- = e- mu-\n",
       "define vl = ve vm vt\n",
       "define vl~ = ve~ vm~ vt~\n",
       "define p = 21 2 4 1 3 -2 -4 -1 -3 5 -5 # pass to 5 flavors\n",
       "define j = p\n",
       "define j = g u c d b s t u~ c~ d~ b~ s~ t~\n",
       "generate p p > xd xd~ @0\n",
       "add process p p > xd xd~ j @1\n",
       "add process p p > xd xd~ j j @2\n",
       "\n",
       "output /home/tfaucett/Projects/svj-production/data/raw_data/sig_schannel\n",
       "launch /home/tfaucett/Projects/svj-production/data/raw_data/sig_schannel\n",
       "\n",
       "set nevents 20000\n",
       "set run_card ebeam1 6500.0\n",
       "set run_card ebeam2 6500.0\n",
       "set pdlabel nn23lo1 \n",
       "set ickkw 1 \n",
       "set xqcut 100\n",
       "set ptj 50\n",
       "set asrwgtflavor 5\n",
       "set maxjetflavor 5\n",
       "\n",
       "set MY1 1500\n",
       "set MXd 10\n",
       "set MXr 10\n",
       "set MXc 10\n",
       "set gVXd 2.000000e+00\n",
       "set gVd11 1.000000e-01\n",
       "set gVu11 1.000000e-01\n",
       "set gVd22 1.000000e-01\n",
       "set gVu22 1.000000e-01\n",
       "set gVd33 1.000000e-01\n",
       "set gVu33 1.000000e-01\n",
       "set gVu31 0.000000e+00\n",
       "set gAu31 0.000000e+00\n",
       "set gVd31 0.000000e+00\n",
       "set gAd31 0.000000e+00\n"
      ]
     },
     "metadata": {},
     "output_type": "display_data"
    }
   ],
   "source": [
    "from dict_replace import dict_replace\n",
    "\n",
    "# Load the MG5 input template\n",
    "mg5_template = proc_path+\"/lhe_proc/templates/schannel_template.txt\"\n",
    "d = {\n",
    "    \"nevents\":20000,\n",
    "    \"ebeam1\":6500.0,\n",
    "    \"ebeam2\":6500.0,\n",
    "    \"xqcut\":100,\n",
    "    \"ptj\":50,\n",
    "    \"MY1\":1500, # Z' mass\n",
    "    \"MXd\":10 # dark quark mass\n",
    "}\n",
    "\n",
    "process_file = \"%s/lhe_proc/lhe_Zp_%s.txt\" %(proc_path, d[\"MY1\"])\n",
    "\n",
    "dict_replace(mg5_template, process_file, d)\n",
    "%less $process_file"
   ]
  },
  {
   "cell_type": "markdown",
   "metadata": {},
   "source": [
    "## Run MG5 and generate LHE file"
   ]
  },
  {
   "cell_type": "code",
   "execution_count": 14,
   "metadata": {},
   "outputs": [
    {
     "name": "stdout",
     "output_type": "stream",
     "text": [
      "Using proc_file /home/tfaucett/Projects/svj-production/gen/process_files/lhe_proc/lhe_Zp_1500.txt\n",
      "You can follow the progress with the command:\n",
      "tail -f /home/tfaucett/Projects/svj-production/gen/logs/mg5/log.txt\n"
     ]
    },
    {
     "data": {
      "text/plain": [
       "0"
      ]
     },
     "execution_count": 14,
     "metadata": {},
     "output_type": "execute_result"
    }
   ],
   "source": [
    "print(\"Using proc_file \" + process_file)\n",
    "log_file = log_path+\"/mg5/log.txt\"\n",
    "run_cmnd = \"nohup \"+ mg5_path +\"/bin/mg5_aMC \" + process_file + \" > \" + log_file\n",
    "print(\"You can follow the progress with the command:\")\n",
    "print(\"tail -f \"+ log_path + \"/mg5/log.txt\")\n",
    "os.system(run_cmnd)"
   ]
  },
  {
   "cell_type": "markdown",
   "metadata": {},
   "source": [
    "## Swap PDG ID\n",
    "Once the LHE file is generated, we have to unzip the LHE file and swap PDG IDs for the upcoming pythia process to make the correct modifications for the SVJ/HiddenValley process\n",
    "\n",
    "*Note, if you are using a Mac you will want to install gsed instead of using the built-in sed. This can be done with homebrew 'brew install gsed'*"
   ]
  },
  {
   "cell_type": "code",
   "execution_count": 15,
   "metadata": {},
   "outputs": [
    {
     "name": "stdout",
     "output_type": "stream",
     "text": [
      "unzipping /home/tfaucett/Projects/svj-production/data/raw_data/sig_schannel/Events/run_01/unweighted_events.lhe.gz\n",
      "replacing PDG ID in /home/tfaucett/Projects/svj-production/data/raw_data/sig_schannel/Events/run_01/unweighted_events.lhe\n"
     ]
    },
    {
     "data": {
      "text/plain": [
       "0"
      ]
     },
     "execution_count": 15,
     "metadata": {},
     "output_type": "execute_result"
    }
   ],
   "source": [
    "lhe_path = svj_path + \"/data/raw_data/sig_schannel/Events/run_01\"\n",
    "lhe_file = lhe_path + \"/unweighted_events.lhe\"\n",
    "if not os.path.isfile(lhe_file):\n",
    "    print(\"unzipping \"+lhe_file+\".gz\")\n",
    "    os.system(\"gunzip \"+lhe_file+\".gz\")\n",
    "print(\"replacing PDG ID in \" + lhe_file)\n",
    "os.system(\"sed -i 's/5000521/4900101/g' \" + lhe_file)"
   ]
  },
  {
   "cell_type": "markdown",
   "metadata": {},
   "source": [
    "## Run the LHE file with Pythia8 and Delphes\n",
    "\n",
    "It's easiest to run pythia through Delphes. Assuming you already installed Delphes and Pythia8 through Madgraph previously, the two can be linked by simply re-running \"make\" with the correct Pythia8 tag: https://cp3.irmp.ucl.ac.be/projects/delphes/wiki/WorkBook/Pythia8\n",
    "\n",
    "*./configure --prefix=path_to_PYTHIA8_installation*\n",
    "\n",
    "*export PYTHIA8=/home/tfaucett/Projects/svj-production/gen/HEPTools/MG5/HEPTools/pythia8*\n",
    "\n",
    "*cd MG5/Delphes*\n",
    "\n",
    "*make HAS_PYTHIA8=true*"
   ]
  },
  {
   "cell_type": "markdown",
   "metadata": {},
   "source": [
    "### custom pythia cmnd file\n",
    "\n",
    "The SVJ/Hidden Valley model in Pythia needs r_inv, Z' mass, etc explicitly defined and referenced in a cmnd file. The code below can be generate this cmnd file by taking a template file and inserting the desired values."
   ]
  },
  {
   "cell_type": "code",
   "execution_count": 21,
   "metadata": {},
   "outputs": [],
   "source": [
    "import shutil\n",
    "import fileinput\n",
    "\n",
    "def gen_dict(nEvents, mY1, mXd, rinv, lambdas, out_path):\n",
    "    # Defines the dictionary with values to \n",
    "    # replace in the template file\n",
    "    d = {\n",
    "        \"nEvents\":nEvents,\n",
    "        \"lambdas\":lambdas,\n",
    "        \"alpha_fsr\":0.13,\n",
    "        \"pTminFSR\":lambdas*1.1,\n",
    "        \"Z_prime\":mY1,\n",
    "        \"dark_quark\":mXd,\n",
    "        \"dark_meson\":2.0*mXd,\n",
    "        \"mWidth\":mXd/50.0,\n",
    "        \"mMin\":mXd - mXd / 50.0,\n",
    "        \"mMax\":mXd + mXd / 50.0,\n",
    "        \"dark_matter\":mXd - 0.01,\n",
    "        \"1_rinv\": 1.0 - rinv,\n",
    "        \"rinv\": rinv,\n",
    "        \"1_rin_half\":round((1 - rinv) / 5.,6),\n",
    "        \"output_path\":out_path\n",
    "    }\n",
    "    return d\n",
    "\n",
    "def cmnd_generator(nEvents, mY1, mXd, rinv, lambdas, out_path):\n",
    "    # Grab the template cmnd file path\n",
    "    cmnd_template = cmnd_path + \"/templates/rinv_template.cmnd\"\n",
    "    \n",
    "    # Define a new output cmnd file (with chosen paramters in the file name)\n",
    "    new_cmnd = \"%s/SVJ_n_%s_mZ_%s_mXd_%s_rinv_%s_lam_%s.cmnd\" %(cmnd_path, nEvents, mY1, mXd, rinv, lambdas)\n",
    "    \n",
    "    # Build the dictionary of replacement values\n",
    "    dictionary = gen_dict(nEvents, mY1, mXd, rinv, lambdas, out_path)\n",
    "    \n",
    "    # Read in the template file\n",
    "    with open(cmnd_template) as f:\n",
    "        data = f.read()\n",
    "        \n",
    "    # Make substitutions in the template file text\n",
    "    for k,v in dictionary.items():\n",
    "        data = data.replace(\"$\"+str(k), str(v))\n",
    "    \n",
    "    # Save the modified template as a new file\n",
    "    with open(new_cmnd, 'w') as writer:\n",
    "        writer.write(data)\n",
    "        \n",
    "    return new_cmnd"
   ]
  },
  {
   "cell_type": "markdown",
   "metadata": {},
   "source": [
    "### Run Pythia/Delphes on LHE\n",
    "now we can run the Delphes command on the LHE file with Pythia included, referencing the appropriate pythia8 card and Delphes tcl file"
   ]
  },
  {
   "cell_type": "code",
   "execution_count": 23,
   "metadata": {},
   "outputs": [
    {
     "data": {
      "text/plain": [
       "! 1) Settings used in the main program.\n",
       "\n",
       "Main:numberOfEvents = 20000         ! number of events to generate\n",
       "Main:timesAllowErrors = 500          ! how many aborts before run stops\n",
       "\n",
       "! 2) Settings related to output in init(), next() and stat().\n",
       "\n",
       "Init:showChangedSettings = on      ! list changed settings\n",
       "Init:showChangedParticleData = off ! list changed particle data\n",
       "Next:numberCount = 1000             ! print message every n events\n",
       "Next:numberShowInfo = 1            ! print event information n times\n",
       "Next:numberShowProcess = 1         ! print process record n times\n",
       "Next:numberShowEvent = 1           ! print event record n times\n",
       "PDF:pSet = 13 \n",
       "\n",
       "\n",
       "\n",
       "\n",
       "! Matching\n",
       "!JetMatching:doVeto=off\n",
       "JetMatching:qCut         = 100\n",
       "JetMatching:nJetMax      = 2\n",
       "JetMatching:setMad=on\n",
       "JetMatching:merge=on\n",
       "JetMatching:scheme=1\n",
       "JetMatching:jetAlgorithm=2\n",
       "\n",
       "\n",
       "\n",
       "\n",
       "! Hidden Valley\n",
       "HiddenValley:Ngauge =2\n",
       "HiddenValley:nFlav =1\n",
       "HiddenValley:alphaOrder =1\n",
       "HiddenValley:Lambda = 10\n",
       "HiddenValley:alphaFSR =0.13\n",
       "HiddenValley:spinFv = 0\n",
       "HiddenValley:FSR = on\n",
       "HiddenValley:fragment = on\n",
       "HiddenValley:pTminFSR = 11.0\n",
       "HiddenValley:probVector =  0.75\n",
       "\n",
       "\n",
       "\n",
       "\n",
       "!Dark Particle setting\n",
       "!Z_prime = 1500\n",
       "!dark_quark = 10\n",
       "!dark_meson = 20.0\n",
       "!dark_matter = 9.99\n",
       "4900023:m0 = 1500\n",
       "4900101:m0 = 10\n",
       "4900101:mWidth = 0.2\n",
       "4900101:mMin = 9.8\n",
       "4900101:mMax = 10.2\n",
       "4900111:m0 = 20.0\n",
       "4900113:m0 = 20.0\n",
       "4900211:m0 = 9.99\n",
       "4900213:m0 = 9.99\n",
       "\n",
       "!dark pion decay\n",
       "4900111:onechannel = 1 0.0 91 -3 3\n",
       "4900111:addchannel = 1 1.0 0 4900211 -4900211\n",
       "\n",
       "!dark rho decay\n",
       "4900113:onechannel = 1 0.0 91 -1 1\n",
       "4900113:addchannel = 1 0.0 91 -2 2\n",
       "4900113:addchannel = 1 0.0 91 -3 3\n",
       "4900113:addchannel = 1 0.0 91 -4 4\n",
       "4900113:addchannel = 1 0.0 91 -5 5\n",
       "4900113:addchannel = 1 1.0 0 4900213 -4900213\n",
       "\n",
       "\n",
       "\n",
       "!ignore these particle\n",
       "4900001:m0 = 50000\n",
       "4900002:m0 = 50000\n",
       "4900003:m0 = 50000\n",
       "4900004:m0 = 50000\n",
       "4900005:m0 = 50000\n",
       "4900006:m0 = 50000\n",
       "4900011:m0 = 50000\n",
       "4900012:m0 = 50000\n",
       "4900013:m0 = 50000\n",
       "4900014:m0 = 50000\n",
       "4900015:m0 = 50000\n",
       "4900016:m0 = 50000\n",
       "\n",
       "! 3) Set the input LHE file\n",
       "! Beams:setProductionScalesFromLHEF=on ! This parameter is automatically set to True by MG5aMC when doing MLM merging with PY8.\n",
       "Beams:frameType = 4\n",
       "Beams:LHEF = /home/tfaucett/Projects/svj-production/data/raw_data/sig_schannel/Events/run_01/unweighted_events.lhe   \n"
      ]
     },
     "metadata": {},
     "output_type": "display_data"
    }
   ],
   "source": [
    "def generate_events(cmnd_file, nEvents, mY1, mXd, rinv, lambdas):\n",
    "    delphes_outfile = os.path.basename(cmnd_file).split(\"SVJ_\")[-1].split(\".cmnd\")[0]\n",
    "    delphes_outfile = svj_path + \"/data/root_files/delphes_\" + delphes_outfile\n",
    "    delphes_outfile = delphes_outfile.replace(\".\", \"p\")\n",
    "    delphes_outfile_ext = delphes_outfile + \".root\"\n",
    "#     if os.path.isfile(delphes_outfile_ext):\n",
    "#         os.remove(delphes_outfile_ext)\n",
    "    if not os.path.isfile(delphes_outfile_ext):\n",
    "        gen_log_file = log_path + \"/delphes/%s.log\" % (delphes_outfile.split(\"/\")[-1])\n",
    "        run_cmnd = \"nohup %s %s %s %s > %s 2>&1 &\" %(DelphesPythia8, delphes_card, cmnd_file, delphes_outfile_ext, gen_log_file)\n",
    "        os.system(run_cmnd)\n",
    "        print(\"You can check progress with the command\")\n",
    "        tail_command = \"tail -f \" + gen_log_file\n",
    "        print(tail_command)\n",
    "\n",
    "\n",
    "\n",
    "# delphes_card = proc_path + \"/delphes_cards/delphes_card_ATLAS_jpt200.tcl\"\n",
    "delphes_card = f\"{proc_path}/delphes_cards/dark-showers/delphes_card_CMS.tcl\"\n",
    "# delphes_card = proc_path + \"/delphes_cards/default_cards/delphes_card_ATLAS.tcl\"\n",
    "nEvents = 20000\n",
    "mY1 = 1500\n",
    "mXds = [5, 10]\n",
    "rinvs = [0.0, 0.3, 0.6, 1.0]\n",
    "lambda_list = [5, 10]\n",
    "for rinv in rinvs:\n",
    "    for lambdas in lambda_list:\n",
    "        for mXd in mXds:\n",
    "            out_path = svj_path + \"/data/raw_data/sig_schannel/Events/run_01/unweighted_events.lhe\"\n",
    "            cmnd_file = cmnd_generator(nEvents, mY1, mXd, rinv, lambdas, out_path)\n",
    "            # generate_events(cmnd_file, nEvents, mY1, mXd, rinv, lambdas)\n",
    "%less $cmnd_file"
   ]
  },
  {
   "cell_type": "code",
   "execution_count": null,
   "metadata": {},
   "outputs": [],
   "source": []
  }
 ],
 "metadata": {
  "kernelspec": {
   "display_name": "Python 2",
   "language": "python",
   "name": "python2"
  },
  "language_info": {
   "codemirror_mode": {
    "name": "ipython",
    "version": 3
   },
   "file_extension": ".py",
   "mimetype": "text/x-python",
   "name": "python",
   "nbconvert_exporter": "python",
   "pygments_lexer": "ipython3",
   "version": "3.7.7"
  }
 },
 "nbformat": 4,
 "nbformat_minor": 4
}
