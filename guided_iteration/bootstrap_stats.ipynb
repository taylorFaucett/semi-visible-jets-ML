{
 "cells": [
  {
   "cell_type": "code",
   "execution_count": 1,
   "metadata": {},
   "outputs": [],
   "source": [
    "import numpy as np\n",
    "import pandas as pd\n",
    "import pathlib\n",
    "path = pathlib.Path.cwd()"
   ]
  },
  {
   "cell_type": "code",
   "execution_count": 4,
   "metadata": {},
   "outputs": [
    {
     "name": "stdout",
     "output_type": "stream",
     "text": [
      "Pass 4 (N=200 bootstraps): AUC = 0.8192 +/- 0.0014 , ADO = 0.9116 +/- 0.0009\n",
      "Pass 1 (N=200 bootstraps): AUC = 0.8116 +/- 0.0014 , ADO = 0.9010 +/- 0.0008\n",
      "Pass 10 (N=200 bootstraps): AUC = 0.8227 +/- 0.0014 , ADO = 0.9187 +/- 0.0009\n"
     ]
    }
   ],
   "source": [
    "run_path = path / 'runs' \n",
    "for bs_result in run_path.rglob('**/bootstrap_results*'):\n",
    "    run_number = bs_result.stem.split('_')[-1]\n",
    "    bs_stats = pd.read_csv(bs_result, index_col=0)\n",
    "    auc_mean = np.mean(bs_stats.auc)\n",
    "    auc_std = np.std(bs_stats.auc)\n",
    "    ado_mean = np.mean(bs_stats.ado)\n",
    "    ado_std = np.std(bs_stats.ado)\n",
    "    straps = len(bs_stats.auc)\n",
    "    print(f\"Pass {run_number} (N={straps} bootstraps): AUC = {auc_mean:.4f} +/- {auc_std:.4f} , ADO = {ado_mean:.4f} +/- {ado_std:.4f}\")\n",
    "    "
   ]
  },
  {
   "cell_type": "code",
   "execution_count": null,
   "metadata": {},
   "outputs": [],
   "source": []
  }
 ],
 "metadata": {
  "kernelspec": {
   "display_name": "Python 3",
   "language": "python",
   "name": "python3"
  },
  "language_info": {
   "codemirror_mode": {
    "name": "ipython",
    "version": 3
   },
   "file_extension": ".py",
   "mimetype": "text/x-python",
   "name": "python",
   "nbconvert_exporter": "python",
   "pygments_lexer": "ipython3",
   "version": "3.8.5"
  }
 },
 "nbformat": 4,
 "nbformat_minor": 4
}
