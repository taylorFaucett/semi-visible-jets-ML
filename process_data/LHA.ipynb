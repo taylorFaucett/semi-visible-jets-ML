{
 "cells": [
  {
   "cell_type": "code",
   "execution_count": 5,
   "metadata": {},
   "outputs": [
    {
     "data": {
      "text/plain": [
       "PosixPath('/media/green/Dropbox/Projects/semi-visible-jets-ml/process_data')"
      ]
     },
     "execution_count": 5,
     "metadata": {},
     "output_type": "execute_result"
    }
   ],
   "source": [
    "import os\n",
    "import pandas as pd\n",
    "import numpy as np\n",
    "import pathlib\n",
    "import h5py\n",
    "import glob\n",
    "import numpy as np\n",
    "import tqdm\n",
    "np.warnings.filterwarnings('ignore')\n",
    "path = pathlib.Path.cwd()\n",
    "path"
   ]
  },
  {
   "cell_type": "code",
   "execution_count": 2,
   "metadata": {},
   "outputs": [],
   "source": [
    "rinvs = [\"0p0\", \"0p3\", \"1p0\"]\n",
    "for rinv in rinvs:\n",
    "    h5_file = path.parent / \"data\" / \"jss_observables\" / f\"HL-{rinv}.h5\"\n",
    "    prep_data = path.parent / \"data\" / \"processed\" / f\"{rinv}-prep_data.h5\"\n",
    "    trim_data = path.parent / \"data\" / \"processed\" / f\"trimmed-{rinv}.pkl\"\n",
    "\n",
    "\n",
    "    X = pd.read_hdf(prep_data, \"features\").features.to_numpy()[:100]\n",
    "    y = pd.read_hdf(prep_data, \"targets\").targets[:100]     \n",
    "    break"
   ]
  },
  {
   "cell_type": "code",
   "execution_count": 11,
   "metadata": {},
   "outputs": [
    {
     "name": "stderr",
     "output_type": "stream",
     "text": [
      "100%|██████████| 100/100 [00:00<00:00, 15105.36it/s]\n"
     ]
    },
    {
     "data": {
      "text/html": [
       "<div>\n",
       "<style scoped>\n",
       "    .dataframe tbody tr th:only-of-type {\n",
       "        vertical-align: middle;\n",
       "    }\n",
       "\n",
       "    .dataframe tbody tr th {\n",
       "        vertical-align: top;\n",
       "    }\n",
       "\n",
       "    .dataframe thead th {\n",
       "        text-align: right;\n",
       "    }\n",
       "</style>\n",
       "<table border=\"1\" class=\"dataframe\">\n",
       "  <thead>\n",
       "    <tr style=\"text-align: right;\">\n",
       "      <th></th>\n",
       "      <th>LHA</th>\n",
       "    </tr>\n",
       "  </thead>\n",
       "  <tbody>\n",
       "    <tr>\n",
       "      <th>0</th>\n",
       "      <td>0.142452</td>\n",
       "    </tr>\n",
       "    <tr>\n",
       "      <th>1</th>\n",
       "      <td>0.222697</td>\n",
       "    </tr>\n",
       "    <tr>\n",
       "      <th>2</th>\n",
       "      <td>0.188074</td>\n",
       "    </tr>\n",
       "    <tr>\n",
       "      <th>3</th>\n",
       "      <td>0.276226</td>\n",
       "    </tr>\n",
       "    <tr>\n",
       "      <th>4</th>\n",
       "      <td>0.209369</td>\n",
       "    </tr>\n",
       "    <tr>\n",
       "      <th>...</th>\n",
       "      <td>...</td>\n",
       "    </tr>\n",
       "    <tr>\n",
       "      <th>95</th>\n",
       "      <td>0.222903</td>\n",
       "    </tr>\n",
       "    <tr>\n",
       "      <th>96</th>\n",
       "      <td>0.194498</td>\n",
       "    </tr>\n",
       "    <tr>\n",
       "      <th>97</th>\n",
       "      <td>0.243722</td>\n",
       "    </tr>\n",
       "    <tr>\n",
       "      <th>98</th>\n",
       "      <td>0.144552</td>\n",
       "    </tr>\n",
       "    <tr>\n",
       "      <th>99</th>\n",
       "      <td>0.251691</td>\n",
       "    </tr>\n",
       "  </tbody>\n",
       "</table>\n",
       "<p>100 rows × 1 columns</p>\n",
       "</div>"
      ],
      "text/plain": [
       "         LHA\n",
       "0   0.142452\n",
       "1   0.222697\n",
       "2   0.188074\n",
       "3   0.276226\n",
       "4   0.209369\n",
       "..       ...\n",
       "95  0.222903\n",
       "96  0.194498\n",
       "97  0.243722\n",
       "98  0.144552\n",
       "99  0.251691\n",
       "\n",
       "[100 rows x 1 columns]"
      ]
     },
     "execution_count": 11,
     "metadata": {},
     "output_type": "execute_result"
    }
   ],
   "source": [
    "def calc(X):\n",
    "    output = []\n",
    "    kappa = 1\n",
    "    beta = 0.5\n",
    "    obs_value = []\n",
    "    for entry in tqdm.tqdm(X):\n",
    "        # Separate the pT, eta, phi from the entry\n",
    "        pT = entry[:,0]\n",
    "        eta = entry[:,1]\n",
    "        phi = entry[:,2]\n",
    "        obs_value = 0\n",
    "        for pT_ix, eta_ix, phi_ix in zip(pT, eta, phi):\n",
    "            theta_ix = np.sqrt((eta_ix**2) + (phi_ix**2))\n",
    "            obs_value += (pT_ix ** kappa) * (theta_ix ** beta)\n",
    "        output.append(obs_value)\n",
    "\n",
    "    # Return full set of values as a 1-D array\n",
    "    return np.hstack(output)\n",
    "\n",
    "JSS_out = np.zeros(X.shape[0])\n",
    "exec(\"JSS_out[:] = calc(X)[:]\")\n",
    "JSS_out = pd.DataFrame({\"LHA\":JSS_out})\n",
    "JSS_out\n"
   ]
  },
  {
   "cell_type": "code",
   "execution_count": null,
   "metadata": {},
   "outputs": [],
   "source": []
  }
 ],
 "metadata": {
  "kernelspec": {
   "display_name": "Python 3",
   "language": "python",
   "name": "python3"
  },
  "language_info": {
   "codemirror_mode": {
    "name": "ipython",
    "version": 3
   },
   "file_extension": ".py",
   "mimetype": "text/x-python",
   "name": "python",
   "nbconvert_exporter": "python",
   "pygments_lexer": "ipython3",
   "version": "3.8.5"
  }
 },
 "nbformat": 4,
 "nbformat_minor": 4
}
