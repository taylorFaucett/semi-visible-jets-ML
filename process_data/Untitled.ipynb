{
 "cells": [
  {
   "cell_type": "code",
   "execution_count": 3,
   "metadata": {},
   "outputs": [
    {
     "data": {
      "text/plain": [
       "PosixPath('/media/green/Dropbox/Projects/semi-visible-jets-ml/process_data')"
      ]
     },
     "execution_count": 3,
     "metadata": {},
     "output_type": "execute_result"
    }
   ],
   "source": [
    "import pathlib\n",
    "import energyflow as ef\n",
    "import numpy as np\n",
    "import pandas as pd\n",
    "path = pathlib.Path.cwd()\n",
    "\n",
    "path"
   ]
  },
  {
   "cell_type": "code",
   "execution_count": 5,
   "metadata": {},
   "outputs": [],
   "source": [
    "pd_file = path.parent / 'data' / 'processed' / '1p0-prep_data.h5'\n",
    "df = pd.read_hdf(pd_file, 'features')\n",
    "df\n",
    "df_sample = df.loc[:10]"
   ]
  },
  {
   "cell_type": "code",
   "execution_count": 18,
   "metadata": {},
   "outputs": [
    {
     "name": "stdout",
     "output_type": "stream",
     "text": [
      "[0.03906468 0.07251847 0.05128383 0.11168916 0.05861319 0.07589739\n",
      " 0.02942281 0.00706916 0.02840027 0.14254894 0.0836374 ]\n",
      "[0.03906468 0.07251847 0.05128383 0.11168916 0.05861319 0.07589739\n",
      " 0.02942281 0.00706916 0.02840027 0.14254894 0.0836374 ]\n"
     ]
    }
   ],
   "source": [
    "def c2b1(X):\n",
    "    output = []\n",
    "    hl_graph = ef.C2(measure='hadr', \n",
    "                     beta=1, \n",
    "                     strassen=False, \n",
    "                     reg=0., \n",
    "                     kappa=1, \n",
    "                     normed=False, \n",
    "                     coords=None, \n",
    "                     check_input=True\n",
    "                    )\n",
    "    \n",
    "\n",
    "    output = hl_graph.batch_compute(X)\n",
    "\n",
    "    return np.hstack(output)\n",
    "\n",
    "def c2b1_step(X):\n",
    "    output = []\n",
    "    hl_graph = ef.C2(measure='hadr', \n",
    "                     beta=1, \n",
    "                     strassen=False, \n",
    "                     reg=0., \n",
    "                     kappa=1, \n",
    "                     normed=False, \n",
    "                     coords=None, \n",
    "                     check_input=True\n",
    "                    )\n",
    "    \n",
    "    output = []\n",
    "    for xi in X:\n",
    "        efpi = hl_graph.compute(xi)\n",
    "        output.append(efpi)\n",
    "\n",
    "    return np.hstack(output)\n",
    "\n",
    "X = df_sample.features\n",
    "print(c2b1(X))\n",
    "print(c2b1_step(X))"
   ]
  },
  {
   "cell_type": "code",
   "execution_count": null,
   "metadata": {},
   "outputs": [],
   "source": []
  }
 ],
 "metadata": {
  "kernelspec": {
   "display_name": "Python 3",
   "language": "python",
   "name": "python3"
  },
  "language_info": {
   "codemirror_mode": {
    "name": "ipython",
    "version": 3
   },
   "file_extension": ".py",
   "mimetype": "text/x-python",
   "name": "python",
   "nbconvert_exporter": "python",
   "pygments_lexer": "ipython3",
   "version": "3.8.5"
  }
 },
 "nbformat": 4,
 "nbformat_minor": 4
}
