{
 "cells": [
  {
   "cell_type": "code",
   "execution_count": 20,
   "metadata": {},
   "outputs": [
    {
     "data": {
      "text/plain": [
       "'/home/tfaucett/Dropbox/Projects/semi-visible-jets-ml'"
      ]
     },
     "execution_count": 20,
     "metadata": {},
     "output_type": "execute_result"
    }
   ],
   "source": [
    "import numpy as np\n",
    "import tqdm\n",
    "import glob\n",
    "from os import path, getcwd\n",
    "import pandas as pd\n",
    "import matplotlib.pyplot as plt\n",
    "home = getcwd()\n",
    "home"
   ]
  },
  {
   "cell_type": "code",
   "execution_count": 15,
   "metadata": {},
   "outputs": [],
   "source": [
    "def mass_inv(j1, j2):\n",
    "    t1 = 2.0 * j1[\"Jet.PT\"] * j2[\"Jet.PT\"]\n",
    "    t2 = np.cosh(j1[\"Jet.Eta\"]-j2[\"Jet.Eta\"])\n",
    "    t3 = np.cos(j1[\"Jet.Phi\"]-j2[\"Jet.Phi\"])\n",
    "    return np.sqrt(t1 * (t2 - t3))"
   ]
  },
  {
   "cell_type": "code",
   "execution_count": 35,
   "metadata": {},
   "outputs": [
    {
     "name": "stderr",
     "output_type": "stream",
     "text": [
      "100%|██████████| 7302/7302 [00:04<00:00, 1776.54it/s]\n"
     ]
    },
    {
     "name": "stdout",
     "output_type": "stream",
     "text": [
      "3233\n"
     ]
    },
    {
     "name": "stderr",
     "output_type": "stream",
     "text": [
      "100%|██████████| 7302/7302 [00:03<00:00, 1961.47it/s]\n",
      "  0%|          | 0/7302 [00:00<?, ?it/s]"
     ]
    },
    {
     "name": "stdout",
     "output_type": "stream",
     "text": [
      "6459\n"
     ]
    },
    {
     "name": "stderr",
     "output_type": "stream",
     "text": [
      "100%|██████████| 7302/7302 [00:02<00:00, 3314.96it/s]\n"
     ]
    },
    {
     "name": "stdout",
     "output_type": "stream",
     "text": [
      "9680\n"
     ]
    },
    {
     "name": "stderr",
     "output_type": "stream",
     "text": [
      "100%|██████████| 7221/7221 [00:03<00:00, 1845.17it/s]\n"
     ]
    },
    {
     "name": "stdout",
     "output_type": "stream",
     "text": [
      "2326\n"
     ]
    },
    {
     "name": "stderr",
     "output_type": "stream",
     "text": [
      "100%|██████████| 7223/7223 [00:03<00:00, 1856.47it/s]\n"
     ]
    },
    {
     "name": "stdout",
     "output_type": "stream",
     "text": [
      "4649\n"
     ]
    },
    {
     "name": "stderr",
     "output_type": "stream",
     "text": [
      "100%|██████████| 7224/7224 [00:03<00:00, 1859.73it/s]\n"
     ]
    },
    {
     "name": "stdout",
     "output_type": "stream",
     "text": [
      "6960\n"
     ]
    },
    {
     "name": "stderr",
     "output_type": "stream",
     "text": [
      "100%|██████████| 4871/4871 [00:01<00:00, 3377.75it/s]\n"
     ]
    },
    {
     "name": "stdout",
     "output_type": "stream",
     "text": [
      "41\n"
     ]
    },
    {
     "name": "stderr",
     "output_type": "stream",
     "text": [
      "100%|██████████| 4851/4851 [00:01<00:00, 3444.84it/s]\n"
     ]
    },
    {
     "name": "stdout",
     "output_type": "stream",
     "text": [
      "77\n"
     ]
    },
    {
     "name": "stderr",
     "output_type": "stream",
     "text": [
      "100%|██████████| 4852/4852 [00:01<00:00, 3465.69it/s]\n"
     ]
    },
    {
     "name": "stdout",
     "output_type": "stream",
     "text": [
      "116\n"
     ]
    },
    {
     "data": {
      "image/png": "[encoded data removed]",
      "text/plain": [
       "<Figure size 576x432 with 1 Axes>"
      ]
     },
     "metadata": {
      "needs_background": "light"
     },
     "output_type": "display_data"
    }
   ],
   "source": [
    "def hist_plot(X, label):\n",
    "    lb, ub, n_bins = 7e2, 1e4, 100\n",
    "    bins = np.linspace(lb, ub, n_bins)\n",
    "    plt.hist(X, bins=bins, histtype=\"step\", label=label, linewidth=3)\n",
    "    plt.yscale(\"log\")\n",
    "    plt.xscale(\"log\")\n",
    "    plt.xlim([lb, ub])\n",
    "\n",
    "    plt.ylim([1e0, 5e6])\n",
    "    plt.text(2.6e3, 4e-1, \"$3\\\\times10^3$\")\n",
    "    plt.xlabel(\"$M_{jj} [GeV]$\")\n",
    "    plt.ylabel(\"Events\")\n",
    "    plt.legend()\n",
    "\n",
    "    \n",
    "plt.figure(figsize=(8, 6))\n",
    "rinvs = [\"0p0\", \"0p3\", \"1p0\"]\n",
    "for rinv in rinvs:\n",
    "    root_files = glob.glob(path.join(home, \"data\", \"root_exports\", rinv, \"*.h5\"))[:3]\n",
    "    minvs = []\n",
    "    for root_file in root_files:\n",
    "        jets = pd.read_hdf(root_file, \"Jet\")\n",
    "        for idx, entry in tqdm.tqdm(jets.groupby(\"entry\")):\n",
    "            # Gaurantee we have at least 2 jets\n",
    "            if len(entry) >= 2:\n",
    "                j1 = entry.iloc[0]\n",
    "                j2 = entry.iloc[1]\n",
    "                abs_eta = np.absolute(j1[\"Jet.Eta\"] - j2[\"Jet.Eta\"])\n",
    "                # Only calculate minv if jets meet pT/eta cut\n",
    "                if j1[\"Jet.PT\"] > 440 and j2[\"Jet.PT\"] > 60 and abs_eta <= 1.2:\n",
    "                    minv = mass_inv(j1, j2)\n",
    "                    minvs.append(minv)\n",
    "        print(len(minvs))\n",
    "    hist_plot(minvs, rinv)\n",
    "plt.savefig(path.join(\"figures\", \"mJJ.png\"))"
   ]
  },
  {
   "cell_type": "code",
   "execution_count": null,
   "metadata": {},
   "outputs": [],
   "source": [
    "from matplotlib import rcParams\n",
    "rcParams['font.family'] = 'serif'\n",
    "plt.rcParams.update({'font.size': 12})\n",
    "lb, ub, n_bins = 7e2, 1e4, 150\n",
    "\n",
    "mxds = [\"5p0\", \"10p0\"]\n",
    "lams = [\"5p0\", \"10p0\"]\n",
    "\n",
    "density = False\n",
    "for mxd in mxds:\n",
    "    for lam in lams:\n",
    "        plt.figure(figsize=(8, 6))\n",
    "        minv_files = natsorted(glob.glob(\"data/minv/*_mXd_%s_*_lam_%s.feather\" %(mxd, lam)))\n",
    "        for file in minv_files:\n",
    "            X = pd.read_feather(file).minv\n",
    "            deets = os.path.basename(file).split(\"_\")\n",
    "            mZ = deets[4].replace(\"p\", \".\")\n",
    "            mXd = deets[6].replace(\"p\", \".\")\n",
    "            rinv = deets[8].replace(\"p\", \".\")\n",
    "            lam = deets[-1].split(\".\")[0].replace(\"p\", \".\")\n",
    "            label = \"$r_{inv}=%s$\" %(rinv)\n",
    "            bins = np.linspace(lb, ub, n_bins)\n",
    "            plt.hist(X, bins=bins, histtype=\"step\", density=density, label=label, linewidth=3)\n",
    "        plt.yscale(\"log\")\n",
    "        plt.xscale(\"log\")\n",
    "        plt.xlim([lb, ub])\n",
    "        if density:\n",
    "            plt.ylim([1e-6, 1e0])\n",
    "        else:\n",
    "            plt.ylim([1e0, 5e6])\n",
    "            plt.text(2.6e3, 4e-1, \"$3\\\\times10^3$\")\n",
    "        plt.xlabel(\"$M_{jj} [GeV]$\")\n",
    "        plt.ylabel(\"Events\")\n",
    "        plt.title(\"$M_{Z'}=%s\\, TeV - M_{xd}=%s\\, GeV - \\Lambda=%s$\" %(mZ, mXd, lam))\n",
    "        plt.legend()\n",
    "        plt.savefig(\"figures/Mjj_mXd_%s_lam_%s.png\" %(mXd, lam))\n",
    "        plt.show()"
   ]
  }
 ],
 "metadata": {
  "kernelspec": {
   "display_name": "Python 3",
   "language": "python",
   "name": "python3"
  },
  "language_info": {
   "codemirror_mode": {
    "name": "ipython",
    "version": 3
   },
   "file_extension": ".py",
   "mimetype": "text/x-python",
   "name": "python",
   "nbconvert_exporter": "python",
   "pygments_lexer": "ipython3",
   "version": "3.8.5"
  }
 },
 "nbformat": 4,
 "nbformat_minor": 4
}
